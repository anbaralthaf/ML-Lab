{
 "cells": [
  {
   "cell_type": "markdown",
   "metadata": {},
   "source": [
    "# KNN w/o scikit"
   ]
  },
  {
   "cell_type": "code",
   "execution_count": 50,
   "metadata": {},
   "outputs": [],
   "source": [
    "import pandas as pd\n",
    "import numpy as np\n",
    "import matplotlib.pyplot as plt"
   ]
  },
  {
   "cell_type": "code",
   "execution_count": 41,
   "metadata": {},
   "outputs": [],
   "source": [
    "data = [  \n",
    "#  weight,sweetness,label          \n",
    "    (180, 7, 'Apple'),\n",
    "    (200, 6, 'Apple'),\n",
    "    (150, 4, 'Orange'),\n",
    "    (170, 5, 'Orange'),\n",
    "    (160, 6, 'Apple'),\n",
    "    (140, 3, 'Orange')\n",
    "]"
   ]
  },
  {
   "cell_type": "code",
   "execution_count": 42,
   "metadata": {},
   "outputs": [
    {
     "data": {
      "text/plain": [
       "[(180, 7, 'Apple'),\n",
       " (200, 6, 'Apple'),\n",
       " (150, 4, 'Orange'),\n",
       " (170, 5, 'Orange'),\n",
       " (160, 6, 'Apple'),\n",
       " (140, 3, 'Orange')]"
      ]
     },
     "execution_count": 42,
     "metadata": {},
     "output_type": "execute_result"
    }
   ],
   "source": [
    "data"
   ]
  },
  {
   "cell_type": "code",
   "execution_count": 43,
   "metadata": {},
   "outputs": [],
   "source": [
    "new_fruit = (165,5.5)"
   ]
  },
  {
   "cell_type": "code",
   "execution_count": 44,
   "metadata": {},
   "outputs": [],
   "source": [
    "def euclidean_distance(fruit1 , fruit2):\n",
    "    return np.sqrt((fruit1[0] - fruit2[0]) **2 +  (fruit1[1] - fruit2[1]) **2)\n"
   ]
  },
  {
   "cell_type": "code",
   "execution_count": 77,
   "metadata": {},
   "outputs": [],
   "source": [
    "def manhattan_distance(fruit1, fruit2):\n",
    "    return sum(abs(a - b) for a, b in zip(fruit1, fruit2))\n"
   ]
  },
  {
   "cell_type": "code",
   "execution_count": 46,
   "metadata": {},
   "outputs": [],
   "source": [
    "def minkowski_distance(fruit1 , fruit2 , p):\n",
    "    return sum(abs(a - b) ** p for a, b in zip(fruit1, fruit2)) ** (1 / p)"
   ]
  },
  {
   "cell_type": "code",
   "execution_count": 78,
   "metadata": {},
   "outputs": [],
   "source": [
    "def knn_classify(new_fruit,data,k):\n",
    "    distances = []\n",
    "    for weight,sweetness,label in data:\n",
    "        dist = euclidean_distance(new_fruit,(weight,sweetness))\n",
    "        distances.append((dist,label))\n",
    "        \n",
    "    distances.sort(key=lambda x: x[0])\n",
    "    nearest_neighbors = distances[:k]\n",
    "    \n",
    "    vote_count = {}\n",
    "    \n",
    "    for neighbor in nearest_neighbors:\n",
    "        label = neighbor[1]\n",
    "        if label in vote_count:\n",
    "            vote_count[label] += 1  \n",
    "        else:\n",
    "            vote_count[label] = 1\n",
    "\n",
    "    predicted_label = max(vote_count, key=vote_count.get)\n",
    "    return predicted_label"
   ]
  },
  {
   "cell_type": "code",
   "execution_count": 79,
   "metadata": {},
   "outputs": [
    {
     "name": "stdout",
     "output_type": "stream",
     "text": [
      "New Fruit for k = 1 is Orange\n",
      "New Fruit for k = 3 is Apple\n",
      "New Fruit for k = 5 is Orange\n"
     ]
    }
   ],
   "source": [
    "for k in [1 , 3 , 5]:\n",
    "    predicted_label_k = knn_classify(new_fruit,data,k)\n",
    "    print(f'New Fruit for k = {k} is {predicted_label_k}')"
   ]
  },
  {
   "cell_type": "code",
   "execution_count": 75,
   "metadata": {},
   "outputs": [
    {
     "data": {
      "image/png": "[encoded data removed]",
      "text/plain": [
       "<Figure size 640x480 with 1 Axes>"
      ]
     },
     "metadata": {},
     "output_type": "display_data"
    }
   ],
   "source": [
    "def plot(data,new_fruit):\n",
    "    plt.figure()\n",
    "    for weight,sweetness,label in data:\n",
    "        color = 'red' if label == 'Apple' else 'orange'\n",
    "        plt.scatter(weight , sweetness , color = color)\n",
    "    \n",
    "    plt.title('Fruit Classification')\n",
    "    plt.xlabel('Weight (grams)')\n",
    "    plt.ylabel('Sweetness Level (1-10)')\n",
    "    \n",
    "    plt.scatter(new_fruit[0],new_fruit[1], color ='blue',marker='x',s=100,label = 'New Fruit')\n",
    "    # plt.legend(['Apple', 'Orange', 'New Fruit'])\n",
    "    plt.grid()\n",
    "    plt.show()\n",
    "\n",
    "plot(data, new_fruit)"
   ]
  },
  {
   "cell_type": "code",
   "execution_count": 80,
   "metadata": {},
   "outputs": [],
   "source": [
    "data = [\n",
    "    (180, 7, 'Apple'),\n",
    "    (200, 6, 'Apple'),\n",
    "    (150, 4, 'Orange'),\n",
    "    (170, 5, 'Orange'),\n",
    "    (160, 6, 'Apple'),\n",
    "    (140, 3, 'Orange')\n",
    "]\n",
    "\n",
    "new_fruit = (165, 5.5)"
   ]
  },
  {
   "cell_type": "code",
   "execution_count": 81,
   "metadata": {},
   "outputs": [],
   "source": [
    "def knn_classify(new_fruit, data, k, distance_func, p=None):\n",
    "    distances = []\n",
    "    for weight, sweetness, label in data:\n",
    "        if p:  # For Minkowski distance when p is specified\n",
    "            dist = distance_func(new_fruit, (weight, sweetness), p)\n",
    "        else:\n",
    "            dist = distance_func(new_fruit, (weight, sweetness))\n",
    "        \n",
    "        distances.append((dist, label))\n",
    "        \n",
    "    distances.sort(key=lambda x: x[0])\n",
    "    nearest_neighbors = distances[:k]\n",
    "    \n",
    "    vote_count = {}\n",
    "    for neighbor in nearest_neighbors:\n",
    "        label = neighbor[1]\n",
    "        if label in vote_count:\n",
    "            vote_count[label] += 1  \n",
    "        else:\n",
    "            vote_count[label] = 1\n",
    "\n",
    "    predicted_label = max(vote_count, key=vote_count.get)\n",
    "    \n",
    "    # Displaying distances\n",
    "    print(f\"\\nDistances for {distance_func.__name__} (k={k}):\")\n",
    "    print([round(dist[0], 2) for dist in distances])\n",
    "    \n",
    "    return predicted_label"
   ]
  },
  {
   "cell_type": "code",
   "execution_count": 82,
   "metadata": {},
   "outputs": [
    {
     "name": "stdout",
     "output_type": "stream",
     "text": [
      "\n",
      "Classification result using Euclidean distance (k=1):\n",
      "\n",
      "Distances for minkowski_distance (k=1):\n",
      "[5.02, 5.02, 15.07, 15.07, 25.12, 35.0]\n",
      "Orange\n",
      "\n",
      "Classification result using Manhattan distance (k=1):\n",
      "\n",
      "Distances for manhattan_distance (k=1):\n",
      "[5.5, 5.5, 16.5, 16.5, 27.5, 35.5]\n",
      "Orange\n",
      "\n",
      "Classification result using Minkowski distance (p=3, k=1):\n",
      "\n",
      "Distances for minkowski_distance (k=1):\n",
      "[5.0, 5.0, 15.0, 15.0, 25.01, 35.0]\n",
      "Orange\n",
      "\n",
      "Classification result using Euclidean distance (k=3):\n",
      "\n",
      "Distances for minkowski_distance (k=3):\n",
      "[5.02, 5.02, 15.07, 15.07, 25.12, 35.0]\n",
      "Apple\n",
      "\n",
      "Classification result using Manhattan distance (k=3):\n",
      "\n",
      "Distances for manhattan_distance (k=3):\n",
      "[5.5, 5.5, 16.5, 16.5, 27.5, 35.5]\n",
      "Apple\n",
      "\n",
      "Classification result using Minkowski distance (p=3, k=3):\n",
      "\n",
      "Distances for minkowski_distance (k=3):\n",
      "[5.0, 5.0, 15.0, 15.0, 25.01, 35.0]\n",
      "Apple\n",
      "\n",
      "Classification result using Euclidean distance (k=5):\n",
      "\n",
      "Distances for minkowski_distance (k=5):\n",
      "[5.02, 5.02, 15.07, 15.07, 25.12, 35.0]\n",
      "Orange\n",
      "\n",
      "Classification result using Manhattan distance (k=5):\n",
      "\n",
      "Distances for manhattan_distance (k=5):\n",
      "[5.5, 5.5, 16.5, 16.5, 27.5, 35.5]\n",
      "Orange\n",
      "\n",
      "Classification result using Minkowski distance (p=3, k=5):\n",
      "\n",
      "Distances for minkowski_distance (k=5):\n",
      "[5.0, 5.0, 15.0, 15.0, 25.01, 35.0]\n",
      "Orange\n"
     ]
    }
   ],
   "source": [
    "for k in [1, 3, 5]:\n",
    "    # Euclidean\n",
    "    print(f\"\\nClassification result using Euclidean distance (k={k}):\")\n",
    "    print(knn_classify(new_fruit, data, k, minkowski_distance, p=2))\n",
    "\n",
    "    # Manhattan\n",
    "    print(f\"\\nClassification result using Manhattan distance (k={k}):\")\n",
    "    print(knn_classify(new_fruit, data, k, manhattan_distance))\n",
    "\n",
    "    # Minkowski (p=3)\n",
    "    print(f\"\\nClassification result using Minkowski distance (p=3, k={k}):\")\n",
    "    print(knn_classify(new_fruit, data, k, minkowski_distance, p=3))"
   ]
  },
  {
   "cell_type": "markdown",
   "metadata": {},
   "source": [
    "# OR"
   ]
  },
  {
   "cell_type": "code",
   "execution_count": 6,
   "metadata": {},
   "outputs": [
    {
     "name": "stdout",
     "output_type": "stream",
     "text": [
      "   weight  sweetness level   label   distance\n",
      "3     170                5  Orange   5.024938\n",
      "4     160                6   Apple   5.024938\n",
      "2     150                4  Orange  15.074813\n",
      "0     180                7   Apple  15.074813\n",
      "5     140                3  Orange  25.124689\n",
      "1     200                6   Apple  35.003571\n",
      "   weight  sweetness level   label   distance\n",
      "3     170                5  Orange   5.024938\n",
      "4     160                6   Apple   5.024938\n",
      "2     150                4  Orange  15.074813\n",
      "label\n",
      "Orange    2\n",
      "Apple     1\n",
      "Name: count, dtype: int64\n",
      "Orange\n"
     ]
    }
   ],
   "source": [
    "import pandas as pd\n",
    "\n",
    "df = pd.read_csv('fruits.csv')\n",
    "\n",
    "def euclid(x, y):\n",
    "    return ((x[0] - y[0]) ** 2 + (x[1] - y[1]) ** 2) ** 0.5\n",
    "\n",
    "def manhatten(x, y):\n",
    "    return abs(x[0] - y[0]) + abs(x[1] - y[1])\n",
    "\n",
    "def minkowski(x, y, k):\n",
    "    return ((x[0] - y[0]) ** k + (x[1] - y[1]) ** k) ** (1 / k)\n",
    "\n",
    "n_weight = 165\n",
    "n_sweet = 5.5\n",
    "k = 3\n",
    "\n",
    "# note how the function is applied to the entire dataframe\n",
    "df['distance'] = euclid((df['weight'], df['sweetness level']), (165, 5.5))\n",
    "\n",
    "# to sort values use sort_values here; don't forget about the 'by' and 'ascending' parameters\n",
    "df = df.sort_values(by='distance', ascending= True)\n",
    "print(df)\n",
    "\n",
    "# keep k enteries; in pandas slicing includes the last element as well\n",
    "enteries = min(k, len(df))\n",
    "print(df.iloc[: enteries])\n",
    "\n",
    "# note how value counts is used\n",
    "counts = df.iloc[:enteries, ].value_counts('label')\n",
    "print(counts)\n",
    "\n",
    "# use idxmax for the answer\n",
    "print(counts.idxmax())"
   ]
  },
  {
   "cell_type": "code",
   "execution_count": null,
   "metadata": {},
   "outputs": [],
   "source": []
  }
 ],
 "metadata": {
  "kernelspec": {
   "display_name": "Python 3",
   "language": "python",
   "name": "python3"
  },
  "language_info": {
   "codemirror_mode": {
    "name": "ipython",
    "version": 3
   },
   "file_extension": ".py",
   "mimetype": "text/x-python",
   "name": "python",
   "nbconvert_exporter": "python",
   "pygments_lexer": "ipython3",
   "version": "3.10.11"
  }
 },
 "nbformat": 4,
 "nbformat_minor": 2
}
